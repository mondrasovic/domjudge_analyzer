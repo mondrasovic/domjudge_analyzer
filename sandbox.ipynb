{
 "cells": [
  {
   "cell_type": "code",
   "execution_count": 4,
   "metadata": {
    "collapsed": true
   },
   "outputs": [
    {
     "name": "stdout",
     "output_type": "stream",
     "text": [
      "The autoreload extension is already loaded. To reload it, use:\n",
      "  %reload_ext autoreload\n"
     ]
    },
    {
     "data": {
      "text/plain": "[{'formal_name': 'TP1 2021 c01',\n  'penalty_time': 20,\n  'start_time': '2021-02-24T18:20:00+01:00',\n  'end_time': '2021-02-25T23:59:59+01:00',\n  'duration': '29:39:59.000',\n  'scoreboard_freeze_duration': None,\n  'id': '16',\n  'external_id': None,\n  'name': 'TP1 2021 c01',\n  'shortname': 'TP1_21_c01'},\n {'formal_name': 'TP1 2021 c02',\n  'penalty_time': 20,\n  'start_time': '2021-03-03T18:00:00+01:00',\n  'end_time': '2021-03-09T23:59:59+01:00',\n  'duration': '149:59:59.000',\n  'scoreboard_freeze_duration': None,\n  'id': '17',\n  'external_id': None,\n  'name': 'TP1 2021 c02',\n  'shortname': 'TP1_21_c02'},\n {'formal_name': 'TP1 2021 c03',\n  'penalty_time': 20,\n  'start_time': '2021-03-10T19:00:00+01:00',\n  'end_time': '2021-03-16T23:59:59+01:00',\n  'duration': '148:59:59.000',\n  'scoreboard_freeze_duration': None,\n  'id': '18',\n  'external_id': None,\n  'name': 'TP1 2021 c03',\n  'shortname': 'TP1_21_c03'},\n {'formal_name': 'TP1 2021 c04',\n  'penalty_time': 20,\n  'start_time': '2021-03-17T19:00:00+01:00',\n  'end_time': '2021-03-23T23:59:59+01:00',\n  'duration': '148:59:59.000',\n  'scoreboard_freeze_duration': None,\n  'id': '19',\n  'external_id': None,\n  'name': 'TP1 2021 c04',\n  'shortname': 'TP1_21_c04'},\n {'formal_name': 'TP1 2021 c05',\n  'penalty_time': 20,\n  'start_time': '2021-03-24T19:00:00+01:00',\n  'end_time': '2021-03-30T23:59:59+02:00',\n  'duration': '147:59:59.000',\n  'scoreboard_freeze_duration': None,\n  'id': '21',\n  'external_id': None,\n  'name': 'TP1 2021 c05',\n  'shortname': 'TP1_21_c05'},\n {'formal_name': 'TP1 2021 sutaz1 testovanie',\n  'penalty_time': 20,\n  'start_time': '2021-03-31T22:09:00+02:00',\n  'end_time': '2021-04-13T23:59:59+02:00',\n  'duration': '313:50:59.000',\n  'scoreboard_freeze_duration': None,\n  'id': '23',\n  'external_id': None,\n  'name': 'TP1 2021 sutaz1 testovanie',\n  'shortname': 'TP1_21_sutaz1_testovanie'},\n {'formal_name': 'TP1 2021 c08',\n  'penalty_time': 20,\n  'start_time': '2021-04-14T19:30:00+02:00',\n  'end_time': '2021-04-20T23:59:59+02:00',\n  'duration': '148:29:59.000',\n  'scoreboard_freeze_duration': '0:00:00.000',\n  'id': '24',\n  'external_id': None,\n  'name': 'TP1 2021 c08',\n  'shortname': 'TP1_21_c08'}]"
     },
     "execution_count": 4,
     "metadata": {},
     "output_type": "execute_result"
    }
   ],
   "source": [
    "%load_ext autoreload\n",
    "%autoreload 2\n",
    "\n",
    "import json\n",
    "import datetime\n",
    "import requests\n",
    "import urllib\n",
    "\n",
    "import domjudge\n",
    "\n",
    "base_url = 'http://158.193.146.202/domjudge/api/v4/contests'\n",
    "content = json.loads(requests.get(base_url).content.decode('utf-8'))\n",
    "content"
   ]
  },
  {
   "cell_type": "code",
   "execution_count": null,
   "outputs": [],
   "source": [
    "base_url = 'http://158.193.146.202/domjudge/api/v4/contests/23/judgements'\n",
    "requests.get(base_url)\n",
    "# content = json.loads(requests.get(base_url).content.decode('utf-8'))\n",
    "# content"
   ],
   "metadata": {
    "collapsed": false,
    "pycharm": {
     "name": "#%%\n"
    }
   }
  },
  {
   "cell_type": "code",
   "execution_count": 5,
   "outputs": [
    {
     "data": {
      "text/plain": "[{'max_run_time': 0.351,\n  'start_time': '2021-03-31T22:33:11.123+02:00',\n  'start_contest_time': '0:24:11.123',\n  'end_time': '2021-03-31T22:33:13.212+02:00',\n  'end_contest_time': '0:24:13.212',\n  'id': '2068',\n  'submission_id': '1862',\n  'valid': True,\n  'judgehost': 'ubuntu',\n  'judgement_type_id': 'WA'},\n {'max_run_time': 1.05,\n  'start_time': '2021-04-01T01:42:04.622+02:00',\n  'start_contest_time': '3:33:04.621',\n  'end_time': '2021-04-01T01:42:07.286+02:00',\n  'end_contest_time': '3:33:07.286',\n  'id': '2078',\n  'submission_id': '1872',\n  'valid': True,\n  'judgehost': 'ubuntu',\n  'judgement_type_id': 'AC'},\n {'max_run_time': 1.442,\n  'start_time': '2021-04-01T19:48:09.578+02:00',\n  'start_contest_time': '21:39:09.578',\n  'end_time': '2021-04-01T19:48:12.913+02:00',\n  'end_contest_time': '21:39:12.913',\n  'id': '2086',\n  'submission_id': '1880',\n  'valid': True,\n  'judgehost': 'ubuntu',\n  'judgement_type_id': 'WA'},\n {'max_run_time': 1.531,\n  'start_time': '2021-04-01T19:56:20.802+02:00',\n  'start_contest_time': '21:47:20.802',\n  'end_time': '2021-04-01T19:56:24.192+02:00',\n  'end_contest_time': '21:47:24.192',\n  'id': '2087',\n  'submission_id': '1881',\n  'valid': True,\n  'judgehost': 'ubuntu',\n  'judgement_type_id': 'AC'},\n {'max_run_time': 0.828,\n  'start_time': '2021-04-03T14:43:04.138+02:00',\n  'start_contest_time': '64:34:04.138',\n  'end_time': '2021-04-03T14:43:09.955+02:00',\n  'end_contest_time': '64:34:09.955',\n  'id': '2107',\n  'submission_id': '1901',\n  'valid': True,\n  'judgehost': 'ubuntu',\n  'judgement_type_id': 'WA'},\n {'max_run_time': 0.546,\n  'start_time': '2021-04-03T15:49:26.357+02:00',\n  'start_contest_time': '65:40:26.357',\n  'end_time': '2021-04-03T15:49:28.875+02:00',\n  'end_contest_time': '65:40:28.875',\n  'id': '2108',\n  'submission_id': '1902',\n  'valid': True,\n  'judgehost': 'ubuntu',\n  'judgement_type_id': 'WA'},\n {'max_run_time': 0.703,\n  'start_time': '2021-04-03T15:56:45.364+02:00',\n  'start_contest_time': '65:47:45.364',\n  'end_time': '2021-04-03T15:56:47.849+02:00',\n  'end_contest_time': '65:47:47.849',\n  'id': '2109',\n  'submission_id': '1903',\n  'valid': True,\n  'judgehost': 'ubuntu',\n  'judgement_type_id': 'WA'},\n {'max_run_time': 0.527,\n  'start_time': '2021-04-05T11:33:28.092+02:00',\n  'start_contest_time': '109:24:28.092',\n  'end_time': '2021-04-05T11:33:30.499+02:00',\n  'end_contest_time': '109:24:30.499',\n  'id': '2117',\n  'submission_id': '1911',\n  'valid': True,\n  'judgehost': 'ubuntu',\n  'judgement_type_id': 'AC'},\n {'max_run_time': 0.829,\n  'start_time': '2021-04-05T11:44:02.806+02:00',\n  'start_contest_time': '109:35:02.805',\n  'end_time': '2021-04-05T11:44:05.937+02:00',\n  'end_contest_time': '109:35:05.937',\n  'id': '2118',\n  'submission_id': '1912',\n  'valid': True,\n  'judgehost': 'ubuntu',\n  'judgement_type_id': 'AC'},\n {'max_run_time': 0.254,\n  'start_time': '2021-04-06T13:53:44.959+02:00',\n  'start_contest_time': '135:44:44.959',\n  'end_time': '2021-04-06T13:53:47.936+02:00',\n  'end_contest_time': '135:44:47.936',\n  'id': '2142',\n  'submission_id': '1936',\n  'valid': True,\n  'judgehost': 'ubuntu',\n  'judgement_type_id': 'WA'},\n {'max_run_time': 0.284,\n  'start_time': '2021-04-06T14:13:45.530+02:00',\n  'start_contest_time': '136:04:45.530',\n  'end_time': '2021-04-06T14:13:48.916+02:00',\n  'end_contest_time': '136:04:48.916',\n  'id': '2143',\n  'submission_id': '1937',\n  'valid': True,\n  'judgehost': 'ubuntu',\n  'judgement_type_id': 'AC'}]"
     },
     "execution_count": 5,
     "metadata": {},
     "output_type": "execute_result"
    }
   ],
   "source": [
    "base_url = 'http://158.193.146.202/domjudge/api/v4/contests/23/judgements'\n",
    "# content = json.loads(requests.get(base_url).content.decode('utf-8'))\n",
    "auth = requests.auth.HTTPBasicAuth('admin2', 'zmensiho')\n",
    "content = json.loads(requests.get(base_url, auth=auth).content.decode('utf-8'))\n",
    "content"
   ],
   "metadata": {
    "collapsed": false,
    "pycharm": {
     "name": "#%%\n"
    }
   }
  },
  {
   "cell_type": "code",
   "execution_count": 12,
   "outputs": [
    {
     "name": "stdout",
     "output_type": "stream",
     "text": [
      "ID: 1862\n",
      "Team ID: 47\n",
      "Problem ID: 25\n",
      "Language ID: cpp\n",
      "Time: 2021-03-31 22:33:09.719000+02:00\n",
      "Max. run time: 0.351\n",
      "Judgement type ID: WA\n",
      "--------------------------------------------------------------------------------\n",
      "ID: 1872\n",
      "Team ID: 33\n",
      "Problem ID: 65\n",
      "Language ID: java\n",
      "Time: 2021-04-01 01:42:01.760000+02:00\n",
      "Max. run time: 1.050\n",
      "Judgement type ID: AC\n",
      "--------------------------------------------------------------------------------\n",
      "ID: 1880\n",
      "Team ID: 50\n",
      "Problem ID: 66\n",
      "Language ID: java\n",
      "Time: 2021-04-01 19:48:05.001000+02:00\n",
      "Max. run time: 1.442\n",
      "Judgement type ID: WA\n",
      "--------------------------------------------------------------------------------\n",
      "ID: 1881\n",
      "Team ID: 50\n",
      "Problem ID: 66\n",
      "Language ID: java\n",
      "Time: 2021-04-01 19:56:19.196000+02:00\n",
      "Max. run time: 1.531\n",
      "Judgement type ID: AC\n",
      "--------------------------------------------------------------------------------\n",
      "ID: 1901\n",
      "Team ID: 46\n",
      "Problem ID: 66\n",
      "Language ID: java\n",
      "Time: 2021-04-03 14:43:01.514000+02:00\n",
      "Max. run time: 0.828\n",
      "Judgement type ID: WA\n",
      "--------------------------------------------------------------------------------\n",
      "ID: 1902\n",
      "Team ID: 46\n",
      "Problem ID: 65\n",
      "Language ID: java\n",
      "Time: 2021-04-03 15:49:24.116000+02:00\n",
      "Max. run time: 0.546\n",
      "Judgement type ID: WA\n",
      "--------------------------------------------------------------------------------\n",
      "ID: 1903\n",
      "Team ID: 46\n",
      "Problem ID: 65\n",
      "Language ID: java\n",
      "Time: 2021-04-03 15:56:41.249000+02:00\n",
      "Max. run time: 0.703\n",
      "Judgement type ID: WA\n",
      "--------------------------------------------------------------------------------\n",
      "ID: 1911\n",
      "Team ID: 46\n",
      "Problem ID: 65\n",
      "Language ID: java\n",
      "Time: 2021-04-05 11:33:25.413000+02:00\n",
      "Max. run time: 0.527\n",
      "Judgement type ID: AC\n",
      "--------------------------------------------------------------------------------\n",
      "ID: 1912\n",
      "Team ID: 46\n",
      "Problem ID: 66\n",
      "Language ID: java\n",
      "Time: 2021-04-05 11:43:58.779000+02:00\n",
      "Max. run time: 0.829\n",
      "Judgement type ID: AC\n",
      "--------------------------------------------------------------------------------\n",
      "ID: 1936\n",
      "Team ID: 46\n",
      "Problem ID: 24\n",
      "Language ID: java\n",
      "Time: 2021-04-06 13:53:42.794000+02:00\n",
      "Max. run time: 0.254\n",
      "Judgement type ID: WA\n",
      "--------------------------------------------------------------------------------\n",
      "ID: 1937\n",
      "Team ID: 46\n",
      "Problem ID: 24\n",
      "Language ID: java\n",
      "Time: 2021-04-06 14:13:43.622000+02:00\n",
      "Max. run time: 0.284\n",
      "Judgement type ID: AC\n"
     ]
    }
   ],
   "source": [
    "url = 'http://158.193.146.202/domjudge/api/v4/'\n",
    "dj_man = domjudge.DOMJudgeManager(url, 'admin2', 'zmensiho')\n",
    "sep = \"\\n\" + (\"-\" * 80) + \"\\n\"\n",
    "print(sep.join(map(str, dj_man.get_submissions(23))))\n",
    "\n",
    "dj_man.download_submissions(23, \"./submissions\")"
   ],
   "metadata": {
    "collapsed": false,
    "pycharm": {
     "name": "#%%\n"
    }
   }
  },
  {
   "cell_type": "code",
   "execution_count": 13,
   "outputs": [
    {
     "data": {
      "text/plain": "domjudge.DOMJudgeManager"
     },
     "execution_count": 13,
     "metadata": {},
     "output_type": "execute_result"
    }
   ],
   "source": [
    "dj_man.__class__"
   ],
   "metadata": {
    "collapsed": false,
    "pycharm": {
     "name": "#%%\n"
    }
   }
  },
  {
   "cell_type": "code",
   "execution_count": 15,
   "outputs": [
    {
     "data": {
      "text/plain": "'DOMJudgeManager'"
     },
     "execution_count": 15,
     "metadata": {},
     "output_type": "execute_result"
    }
   ],
   "source": [
    "type(dj_man).__name__"
   ],
   "metadata": {
    "collapsed": false,
    "pycharm": {
     "name": "#%%\n"
    }
   }
  }
 ],
 "metadata": {
  "kernelspec": {
   "display_name": "Python 3",
   "language": "python",
   "name": "python3"
  },
  "language_info": {
   "codemirror_mode": {
    "name": "ipython",
    "version": 2
   },
   "file_extension": ".py",
   "mimetype": "text/x-python",
   "name": "python",
   "nbconvert_exporter": "python",
   "pygments_lexer": "ipython2",
   "version": "2.7.6"
  }
 },
 "nbformat": 4,
 "nbformat_minor": 0
}