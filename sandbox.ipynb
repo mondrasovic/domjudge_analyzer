{
 "cells": [
  {
   "cell_type": "code",
   "execution_count": 1,
   "metadata": {
    "collapsed": true
   },
   "outputs": [],
   "source": [
    "%load_ext autoreload\n",
    "%autoreload 2\n",
    "\n",
    "import json\n",
    "from datetime import datetime\n",
    "import requests\n",
    "import urllib\n",
    "import configparser\n",
    "import dataclasses\n",
    "\n",
    "from typing import *\n",
    "\n",
    "import domjudge"
   ]
  },
  {
   "cell_type": "code",
   "execution_count": null,
   "outputs": [],
   "source": [
    "base_url = 'http://158.193.146.202/domjudge/api/v4/contests/23/judgements'\n",
    "# content = json.loads(requests.get(base_url).content.decode('utf-8'))\n",
    "auth = requests.auth.HTTPBasicAuth('admin2', 'zmensiho')\n",
    "content = json.loads(requests.get(base_url, auth=auth).content.decode('utf-8'))\n",
    "content"
   ],
   "metadata": {
    "collapsed": false,
    "pycharm": {
     "name": "#%%\n"
    }
   }
  },
  {
   "cell_type": "code",
   "execution_count": null,
   "outputs": [],
   "source": [
    "url = 'http://158.193.146.202/domjudge/api/v4/'\n",
    "dj_man = domjudge.DOMJudgeManager(url, 'admin2', 'zmensiho')\n",
    "sep = \"\\n\" + (\"-\" * 80) + \"\\n\"\n",
    "print(sep.join(map(str, dj_man.get_submissions(23))))\n",
    "\n",
    "dj_man.download_submissions(23, \"./submissions\")"
   ],
   "metadata": {
    "collapsed": false,
    "pycharm": {
     "name": "#%%\n"
    }
   }
  },
  {
   "cell_type": "code",
   "execution_count": 5,
   "outputs": [
    {
     "data": {
      "text/plain": "True"
     },
     "execution_count": 5,
     "metadata": {},
     "output_type": "execute_result"
    }
   ],
   "source": [
    "cfg = configparser.ConfigParser()\n",
    "cfg.read(\"config.cfg\")\n",
    "\n",
    "'base_url' in cfg['server']"
   ],
   "metadata": {
    "collapsed": false,
    "pycharm": {
     "name": "#%%\n"
    }
   }
  }
 ],
 "metadata": {
  "kernelspec": {
   "display_name": "Python 3",
   "language": "python",
   "name": "python3"
  },
  "language_info": {
   "codemirror_mode": {
    "name": "ipython",
    "version": 2
   },
   "file_extension": ".py",
   "mimetype": "text/x-python",
   "name": "python",
   "nbconvert_exporter": "python",
   "pygments_lexer": "ipython2",
   "version": "2.7.6"
  }
 },
 "nbformat": 4,
 "nbformat_minor": 0
}